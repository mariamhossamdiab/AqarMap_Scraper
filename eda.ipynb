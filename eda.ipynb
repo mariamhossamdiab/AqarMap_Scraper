{
 "cells": [
  {
   "cell_type": "code",
   "execution_count": 1,
   "id": "586ae9e8",
   "metadata": {},
   "outputs": [
    {
     "data": {
      "text/html": [
       "<div>\n",
       "<style scoped>\n",
       "    .dataframe tbody tr th:only-of-type {\n",
       "        vertical-align: middle;\n",
       "    }\n",
       "\n",
       "    .dataframe tbody tr th {\n",
       "        vertical-align: top;\n",
       "    }\n",
       "\n",
       "    .dataframe thead th {\n",
       "        text-align: right;\n",
       "    }\n",
       "</style>\n",
       "<table border=\"1\" class=\"dataframe\">\n",
       "  <thead>\n",
       "    <tr style=\"text-align: right;\">\n",
       "      <th></th>\n",
       "      <th>link</th>\n",
       "      <th>Adtitle</th>\n",
       "      <th>price</th>\n",
       "      <th>address</th>\n",
       "      <th>area</th>\n",
       "      <th>bedrooms</th>\n",
       "      <th>bathrooms</th>\n",
       "      <th>sale_or_rent</th>\n",
       "      <th>unit</th>\n",
       "      <th>aqar type</th>\n",
       "      <th>price/meter^2</th>\n",
       "    </tr>\n",
       "  </thead>\n",
       "  <tbody>\n",
       "    <tr>\n",
       "      <th>0</th>\n",
       "      <td>https://aqarmap.com.eg//en/listing/4294910-for...</td>\n",
       "      <td>Shops For rent in Orium Mall - Z Group</td>\n",
       "      <td>140000</td>\n",
       "      <td>اوريوم مول - زد جروب, كمبوند بمدينة الشروق</td>\n",
       "      <td>110</td>\n",
       "      <td>NaN</td>\n",
       "      <td>NaN</td>\n",
       "      <td>Y</td>\n",
       "      <td>commercial</td>\n",
       "      <td>commercial</td>\n",
       "      <td>1272.727273</td>\n",
       "    </tr>\n",
       "    <tr>\n",
       "      <th>1</th>\n",
       "      <td>https://aqarmap.com.eg//en/listing/4242338-for...</td>\n",
       "      <td>Shops For rent in Craft Zone Mall</td>\n",
       "      <td>25000</td>\n",
       "      <td>كرافت زون مول, مدينتي</td>\n",
       "      <td>76</td>\n",
       "      <td>NaN</td>\n",
       "      <td>NaN</td>\n",
       "      <td>Y</td>\n",
       "      <td>commercial</td>\n",
       "      <td>commercial</td>\n",
       "      <td>328.947368</td>\n",
       "    </tr>\n",
       "    <tr>\n",
       "      <th>2</th>\n",
       "      <td>https://aqarmap.com.eg//en/listing/4354688-for...</td>\n",
       "      <td>Shops For rent in El Ahram St.</td>\n",
       "      <td>60000</td>\n",
       "      <td>شارع الأهرام , ميدان روكسي</td>\n",
       "      <td>160</td>\n",
       "      <td>NaN</td>\n",
       "      <td>NaN</td>\n",
       "      <td>Y</td>\n",
       "      <td>commercial</td>\n",
       "      <td>commercial</td>\n",
       "      <td>375.000000</td>\n",
       "    </tr>\n",
       "    <tr>\n",
       "      <th>3</th>\n",
       "      <td>https://aqarmap.com.eg//en/listing/4224245-for...</td>\n",
       "      <td>Restaurant For rent in Moez El-Dawla St.</td>\n",
       "      <td>60000</td>\n",
       "      <td>شارع معز الدولة, البنفسج 8</td>\n",
       "      <td>46</td>\n",
       "      <td>NaN</td>\n",
       "      <td>NaN</td>\n",
       "      <td>Y</td>\n",
       "      <td>commercial</td>\n",
       "      <td>commercial</td>\n",
       "      <td>1304.347826</td>\n",
       "    </tr>\n",
       "    <tr>\n",
       "      <th>4</th>\n",
       "      <td>https://aqarmap.com.eg//en/listing/4222905-for...</td>\n",
       "      <td>Shops For rent in El Shaheed Mohammed Alshimi St.</td>\n",
       "      <td>45000</td>\n",
       "      <td>شارع الشهيد/ محمد الشيمي, البنفسج 8</td>\n",
       "      <td>46</td>\n",
       "      <td>NaN</td>\n",
       "      <td>NaN</td>\n",
       "      <td>Y</td>\n",
       "      <td>commercial</td>\n",
       "      <td>commercial</td>\n",
       "      <td>978.260870</td>\n",
       "    </tr>\n",
       "  </tbody>\n",
       "</table>\n",
       "</div>"
      ],
      "text/plain": [
       "                                                link  \\\n",
       "0  https://aqarmap.com.eg//en/listing/4294910-for...   \n",
       "1  https://aqarmap.com.eg//en/listing/4242338-for...   \n",
       "2  https://aqarmap.com.eg//en/listing/4354688-for...   \n",
       "3  https://aqarmap.com.eg//en/listing/4224245-for...   \n",
       "4  https://aqarmap.com.eg//en/listing/4222905-for...   \n",
       "\n",
       "                                             Adtitle   price  \\\n",
       "0             Shops For rent in Orium Mall - Z Group  140000   \n",
       "1                  Shops For rent in Craft Zone Mall   25000   \n",
       "2                     Shops For rent in El Ahram St.   60000   \n",
       "3           Restaurant For rent in Moez El-Dawla St.   60000   \n",
       "4  Shops For rent in El Shaheed Mohammed Alshimi St.   45000   \n",
       "\n",
       "                                      address  area  bedrooms  bathrooms  \\\n",
       "0  اوريوم مول - زد جروب, كمبوند بمدينة الشروق   110       NaN        NaN   \n",
       "1                       كرافت زون مول, مدينتي    76       NaN        NaN   \n",
       "2                  شارع الأهرام , ميدان روكسي   160       NaN        NaN   \n",
       "3                  شارع معز الدولة, البنفسج 8    46       NaN        NaN   \n",
       "4         شارع الشهيد/ محمد الشيمي, البنفسج 8    46       NaN        NaN   \n",
       "\n",
       "  sale_or_rent        unit   aqar type  price/meter^2  \n",
       "0            Y  commercial  commercial    1272.727273  \n",
       "1            Y  commercial  commercial     328.947368  \n",
       "2            Y  commercial  commercial     375.000000  \n",
       "3            Y  commercial  commercial    1304.347826  \n",
       "4            Y  commercial  commercial     978.260870  "
      ]
     },
     "execution_count": 1,
     "metadata": {},
     "output_type": "execute_result"
    }
   ],
   "source": [
    "import pandas as pd \n",
    "import numpy as np\n",
    "import seaborn as sns \n",
    "import matplotlib.pyplot as plt\n",
    "data = pd.read_excel(r\"F:/aqar/remove_outlier.xlsx\")\n",
    "\n",
    "data.head()"
   ]
  },
  {
   "cell_type": "code",
   "execution_count": 2,
   "id": "b366e976",
   "metadata": {},
   "outputs": [
    {
     "name": "stdout",
     "output_type": "stream",
     "text": [
      "<class 'pandas.core.frame.DataFrame'>\n",
      "RangeIndex: 1442 entries, 0 to 1441\n",
      "Data columns (total 11 columns):\n",
      " #   Column         Non-Null Count  Dtype  \n",
      "---  ------         --------------  -----  \n",
      " 0   link           1442 non-null   object \n",
      " 1   Adtitle        1439 non-null   object \n",
      " 2   price          1442 non-null   int64  \n",
      " 3   address        1442 non-null   object \n",
      " 4   area           1442 non-null   int64  \n",
      " 5   bedrooms       1121 non-null   float64\n",
      " 6   bathrooms      1104 non-null   float64\n",
      " 7   sale_or_rent   1442 non-null   object \n",
      " 8   unit           1442 non-null   object \n",
      " 9   aqar type      1442 non-null   object \n",
      " 10  price/meter^2  1442 non-null   float64\n",
      "dtypes: float64(3), int64(2), object(6)\n",
      "memory usage: 124.0+ KB\n"
     ]
    }
   ],
   "source": [
    "data.info()"
   ]
  },
  {
   "cell_type": "code",
   "execution_count": 3,
   "id": "2e3d55ff",
   "metadata": {},
   "outputs": [
    {
     "data": {
      "text/html": [
       "<div>\n",
       "<style scoped>\n",
       "    .dataframe tbody tr th:only-of-type {\n",
       "        vertical-align: middle;\n",
       "    }\n",
       "\n",
       "    .dataframe tbody tr th {\n",
       "        vertical-align: top;\n",
       "    }\n",
       "\n",
       "    .dataframe thead th {\n",
       "        text-align: right;\n",
       "    }\n",
       "</style>\n",
       "<table border=\"1\" class=\"dataframe\">\n",
       "  <thead>\n",
       "    <tr style=\"text-align: right;\">\n",
       "      <th></th>\n",
       "      <th>price</th>\n",
       "      <th>area</th>\n",
       "      <th>bedrooms</th>\n",
       "      <th>bathrooms</th>\n",
       "      <th>price/meter^2</th>\n",
       "    </tr>\n",
       "  </thead>\n",
       "  <tbody>\n",
       "    <tr>\n",
       "      <th>count</th>\n",
       "      <td>1.442000e+03</td>\n",
       "      <td>1442.000000</td>\n",
       "      <td>1121.000000</td>\n",
       "      <td>1104.000000</td>\n",
       "      <td>1442.000000</td>\n",
       "    </tr>\n",
       "    <tr>\n",
       "      <th>mean</th>\n",
       "      <td>3.907608e+06</td>\n",
       "      <td>219.377947</td>\n",
       "      <td>2.716325</td>\n",
       "      <td>2.155797</td>\n",
       "      <td>26111.660736</td>\n",
       "    </tr>\n",
       "    <tr>\n",
       "      <th>std</th>\n",
       "      <td>3.117187e+06</td>\n",
       "      <td>327.292212</td>\n",
       "      <td>0.790452</td>\n",
       "      <td>0.788174</td>\n",
       "      <td>21715.224880</td>\n",
       "    </tr>\n",
       "    <tr>\n",
       "      <th>min</th>\n",
       "      <td>1.100000e+04</td>\n",
       "      <td>9.000000</td>\n",
       "      <td>1.000000</td>\n",
       "      <td>1.000000</td>\n",
       "      <td>6.000000</td>\n",
       "    </tr>\n",
       "    <tr>\n",
       "      <th>25%</th>\n",
       "      <td>1.633500e+06</td>\n",
       "      <td>116.250000</td>\n",
       "      <td>2.000000</td>\n",
       "      <td>2.000000</td>\n",
       "      <td>12000.000000</td>\n",
       "    </tr>\n",
       "    <tr>\n",
       "      <th>50%</th>\n",
       "      <td>3.416000e+06</td>\n",
       "      <td>159.000000</td>\n",
       "      <td>3.000000</td>\n",
       "      <td>2.000000</td>\n",
       "      <td>22500.000000</td>\n",
       "    </tr>\n",
       "    <tr>\n",
       "      <th>75%</th>\n",
       "      <td>6.000000e+06</td>\n",
       "      <td>201.500000</td>\n",
       "      <td>3.000000</td>\n",
       "      <td>3.000000</td>\n",
       "      <td>40000.000000</td>\n",
       "    </tr>\n",
       "    <tr>\n",
       "      <th>max</th>\n",
       "      <td>1.322428e+07</td>\n",
       "      <td>6000.000000</td>\n",
       "      <td>5.000000</td>\n",
       "      <td>5.000000</td>\n",
       "      <td>162000.000000</td>\n",
       "    </tr>\n",
       "  </tbody>\n",
       "</table>\n",
       "</div>"
      ],
      "text/plain": [
       "              price         area     bedrooms    bathrooms  price/meter^2\n",
       "count  1.442000e+03  1442.000000  1121.000000  1104.000000    1442.000000\n",
       "mean   3.907608e+06   219.377947     2.716325     2.155797   26111.660736\n",
       "std    3.117187e+06   327.292212     0.790452     0.788174   21715.224880\n",
       "min    1.100000e+04     9.000000     1.000000     1.000000       6.000000\n",
       "25%    1.633500e+06   116.250000     2.000000     2.000000   12000.000000\n",
       "50%    3.416000e+06   159.000000     3.000000     2.000000   22500.000000\n",
       "75%    6.000000e+06   201.500000     3.000000     3.000000   40000.000000\n",
       "max    1.322428e+07  6000.000000     5.000000     5.000000  162000.000000"
      ]
     },
     "execution_count": 3,
     "metadata": {},
     "output_type": "execute_result"
    }
   ],
   "source": [
    "data.describe() #describe the statistics of numeric values \n"
   ]
  },
  {
   "cell_type": "code",
   "execution_count": 4,
   "id": "bce82b85",
   "metadata": {},
   "outputs": [
    {
     "data": {
      "text/plain": [
       "link               0\n",
       "Adtitle            3\n",
       "price              0\n",
       "address            0\n",
       "area               0\n",
       "bedrooms         321\n",
       "bathrooms        338\n",
       "sale_or_rent       0\n",
       "unit               0\n",
       "aqar type          0\n",
       "price/meter^2      0\n",
       "dtype: int64"
      ]
     },
     "execution_count": 4,
     "metadata": {},
     "output_type": "execute_result"
    }
   ],
   "source": [
    "data.isnull().sum()"
   ]
  },
  {
   "cell_type": "code",
   "execution_count": 5,
   "id": "99dc59e5",
   "metadata": {},
   "outputs": [
    {
     "data": {
      "text/plain": [
       "(1442, 11)"
      ]
     },
     "execution_count": 5,
     "metadata": {},
     "output_type": "execute_result"
    }
   ],
   "source": [
    "data.shape"
   ]
  },
  {
   "cell_type": "code",
   "execution_count": 6,
   "id": "8286687b",
   "metadata": {},
   "outputs": [
    {
     "data": {
      "text/plain": [
       "array(['link', 'Adtitle', 'price', 'address', 'area', 'bedrooms',\n",
       "       'bathrooms', 'sale_or_rent', 'unit', 'aqar type', 'price/meter^2'],\n",
       "      dtype=object)"
      ]
     },
     "execution_count": 6,
     "metadata": {},
     "output_type": "execute_result"
    }
   ],
   "source": [
    "data.columns.values"
   ]
  },
  {
   "cell_type": "code",
   "execution_count": 7,
   "id": "e02ca143",
   "metadata": {},
   "outputs": [
    {
     "data": {
      "text/plain": [
       "link              object\n",
       "Adtitle           object\n",
       "price              int64\n",
       "address           object\n",
       "area               int64\n",
       "bedrooms         float64\n",
       "bathrooms        float64\n",
       "sale_or_rent      object\n",
       "unit              object\n",
       "aqar type         object\n",
       "price/meter^2    float64\n",
       "dtype: object"
      ]
     },
     "execution_count": 7,
     "metadata": {},
     "output_type": "execute_result"
    }
   ],
   "source": [
    "data.dtypes"
   ]
  },
  {
   "cell_type": "code",
   "execution_count": null,
   "id": "8a8c1e74",
   "metadata": {},
   "outputs": [],
   "source": []
  },
  {
   "cell_type": "code",
   "execution_count": 22,
   "id": "a3bc796b",
   "metadata": {},
   "outputs": [
    {
     "data": {
      "text/html": [
       "<div>\n",
       "<style scoped>\n",
       "    .dataframe tbody tr th:only-of-type {\n",
       "        vertical-align: middle;\n",
       "    }\n",
       "\n",
       "    .dataframe tbody tr th {\n",
       "        vertical-align: top;\n",
       "    }\n",
       "\n",
       "    .dataframe thead th {\n",
       "        text-align: right;\n",
       "    }\n",
       "</style>\n",
       "<table border=\"1\" class=\"dataframe\">\n",
       "  <thead>\n",
       "    <tr style=\"text-align: right;\">\n",
       "      <th></th>\n",
       "      <th>price</th>\n",
       "      <th>area</th>\n",
       "      <th>bedrooms</th>\n",
       "      <th>bathrooms</th>\n",
       "      <th>price/meter^2</th>\n",
       "    </tr>\n",
       "  </thead>\n",
       "  <tbody>\n",
       "    <tr>\n",
       "      <th>0</th>\n",
       "      <td>140000</td>\n",
       "      <td>110</td>\n",
       "      <td>NaN</td>\n",
       "      <td>NaN</td>\n",
       "      <td>1272.727273</td>\n",
       "    </tr>\n",
       "    <tr>\n",
       "      <th>1</th>\n",
       "      <td>25000</td>\n",
       "      <td>76</td>\n",
       "      <td>NaN</td>\n",
       "      <td>NaN</td>\n",
       "      <td>328.947368</td>\n",
       "    </tr>\n",
       "    <tr>\n",
       "      <th>2</th>\n",
       "      <td>60000</td>\n",
       "      <td>160</td>\n",
       "      <td>NaN</td>\n",
       "      <td>NaN</td>\n",
       "      <td>375.000000</td>\n",
       "    </tr>\n",
       "    <tr>\n",
       "      <th>3</th>\n",
       "      <td>60000</td>\n",
       "      <td>46</td>\n",
       "      <td>NaN</td>\n",
       "      <td>NaN</td>\n",
       "      <td>1304.347826</td>\n",
       "    </tr>\n",
       "    <tr>\n",
       "      <th>4</th>\n",
       "      <td>45000</td>\n",
       "      <td>46</td>\n",
       "      <td>NaN</td>\n",
       "      <td>NaN</td>\n",
       "      <td>978.260870</td>\n",
       "    </tr>\n",
       "    <tr>\n",
       "      <th>...</th>\n",
       "      <td>...</td>\n",
       "      <td>...</td>\n",
       "      <td>...</td>\n",
       "      <td>...</td>\n",
       "      <td>...</td>\n",
       "    </tr>\n",
       "    <tr>\n",
       "      <th>1437</th>\n",
       "      <td>4300000</td>\n",
       "      <td>220</td>\n",
       "      <td>3.0</td>\n",
       "      <td>2.0</td>\n",
       "      <td>19545.454545</td>\n",
       "    </tr>\n",
       "    <tr>\n",
       "      <th>1438</th>\n",
       "      <td>1250000</td>\n",
       "      <td>90</td>\n",
       "      <td>2.0</td>\n",
       "      <td>1.0</td>\n",
       "      <td>13888.888889</td>\n",
       "    </tr>\n",
       "    <tr>\n",
       "      <th>1439</th>\n",
       "      <td>1250000</td>\n",
       "      <td>90</td>\n",
       "      <td>2.0</td>\n",
       "      <td>1.0</td>\n",
       "      <td>13888.888889</td>\n",
       "    </tr>\n",
       "    <tr>\n",
       "      <th>1440</th>\n",
       "      <td>9800000</td>\n",
       "      <td>140</td>\n",
       "      <td>2.0</td>\n",
       "      <td>1.0</td>\n",
       "      <td>70000.000000</td>\n",
       "    </tr>\n",
       "    <tr>\n",
       "      <th>1441</th>\n",
       "      <td>1200000</td>\n",
       "      <td>42</td>\n",
       "      <td>1.0</td>\n",
       "      <td>1.0</td>\n",
       "      <td>28571.428571</td>\n",
       "    </tr>\n",
       "  </tbody>\n",
       "</table>\n",
       "<p>1442 rows × 5 columns</p>\n",
       "</div>"
      ],
      "text/plain": [
       "        price  area  bedrooms  bathrooms  price/meter^2\n",
       "0      140000   110       NaN        NaN    1272.727273\n",
       "1       25000    76       NaN        NaN     328.947368\n",
       "2       60000   160       NaN        NaN     375.000000\n",
       "3       60000    46       NaN        NaN    1304.347826\n",
       "4       45000    46       NaN        NaN     978.260870\n",
       "...       ...   ...       ...        ...            ...\n",
       "1437  4300000   220       3.0        2.0   19545.454545\n",
       "1438  1250000    90       2.0        1.0   13888.888889\n",
       "1439  1250000    90       2.0        1.0   13888.888889\n",
       "1440  9800000   140       2.0        1.0   70000.000000\n",
       "1441  1200000    42       1.0        1.0   28571.428571\n",
       "\n",
       "[1442 rows x 5 columns]"
      ]
     },
     "execution_count": 22,
     "metadata": {},
     "output_type": "execute_result"
    }
   ],
   "source": [
    "data.select_dtypes(include='number')"
   ]
  },
  {
   "cell_type": "code",
   "execution_count": 9,
   "id": "74cbddef",
   "metadata": {},
   "outputs": [
    {
     "data": {
      "text/plain": [
       "link             1116\n",
       "Adtitle           870\n",
       "price             508\n",
       "address           542\n",
       "area              248\n",
       "bedrooms            5\n",
       "bathrooms           5\n",
       "sale_or_rent        2\n",
       "unit                3\n",
       "aqar type           2\n",
       "price/meter^2     785\n",
       "dtype: int64"
      ]
     },
     "execution_count": 9,
     "metadata": {},
     "output_type": "execute_result"
    }
   ],
   "source": [
    "data.nunique()"
   ]
  },
  {
   "cell_type": "code",
   "execution_count": 10,
   "id": "b5c22d9c",
   "metadata": {},
   "outputs": [],
   "source": [
    "plt.figure(figsize=(10,5))\n",
    "d=data[['unit','aqar type','sale_or_rent']]\n",
    "for  i,predictor in enumerate(d.drop(columns='aqar type')):\n",
    "    plt.figure()\n",
    "    sns.countplot(data=d,x=predictor,hue='sale_or_rent')"
   ]
  },
  {
   "cell_type": "code",
   "execution_count": 11,
   "id": "6598e869",
   "metadata": {},
   "outputs": [
    {
     "data": {
      "text/plain": [
       "apartment              792\n",
       "furnished-apartment    339\n",
       "commercial             311\n",
       "Name: unit, dtype: int64"
      ]
     },
     "execution_count": 11,
     "metadata": {},
     "output_type": "execute_result"
    }
   ],
   "source": [
    "d.unit.value_counts()"
   ]
  },
  {
   "cell_type": "code",
   "execution_count": 12,
   "id": "8e5aec5e",
   "metadata": {},
   "outputs": [
    {
     "data": {
      "text/plain": [
       "N    78.432732\n",
       "Y    21.567268\n",
       "Name: sale_or_rent, dtype: float64"
      ]
     },
     "execution_count": 12,
     "metadata": {},
     "output_type": "execute_result"
    }
   ],
   "source": [
    "d.sale_or_rent.value_counts()/len(d)*100"
   ]
  },
  {
   "cell_type": "code",
   "execution_count": 13,
   "id": "745eed6f",
   "metadata": {},
   "outputs": [
    {
     "data": {
      "text/plain": [
       "<AxesSubplot:>"
      ]
     },
     "execution_count": 13,
     "metadata": {},
     "output_type": "execute_result"
    }
   ],
   "source": [
    "plt.figure(figsize=(6,6))\n",
    "sns.heatmap(data.corr(),annot=True)"
   ]
  },
  {
   "cell_type": "code",
   "execution_count": 14,
   "id": "4c6cf8aa",
   "metadata": {},
   "outputs": [
    {
     "data": {
      "text/plain": [
       "<AxesSubplot:>"
      ]
     },
     "execution_count": 14,
     "metadata": {},
     "output_type": "execute_result"
    }
   ],
   "source": [
    "plt.figure(figsize=(10,5))\n",
    "d['unit'].value_counts().sort_index(ascending=False).plot()"
   ]
  },
  {
   "cell_type": "code",
   "execution_count": 15,
   "id": "af4f2920",
   "metadata": {},
   "outputs": [
    {
     "data": {
      "text/html": [
       "<div>\n",
       "<style scoped>\n",
       "    .dataframe tbody tr th:only-of-type {\n",
       "        vertical-align: middle;\n",
       "    }\n",
       "\n",
       "    .dataframe tbody tr th {\n",
       "        vertical-align: top;\n",
       "    }\n",
       "\n",
       "    .dataframe thead th {\n",
       "        text-align: right;\n",
       "    }\n",
       "</style>\n",
       "<table border=\"1\" class=\"dataframe\">\n",
       "  <thead>\n",
       "    <tr style=\"text-align: right;\">\n",
       "      <th></th>\n",
       "      <th>apartment</th>\n",
       "      <th>commercial</th>\n",
       "      <th>furnished-apartment</th>\n",
       "    </tr>\n",
       "  </thead>\n",
       "  <tbody>\n",
       "    <tr>\n",
       "      <th>0</th>\n",
       "      <td>0</td>\n",
       "      <td>1</td>\n",
       "      <td>0</td>\n",
       "    </tr>\n",
       "    <tr>\n",
       "      <th>1</th>\n",
       "      <td>0</td>\n",
       "      <td>1</td>\n",
       "      <td>0</td>\n",
       "    </tr>\n",
       "    <tr>\n",
       "      <th>2</th>\n",
       "      <td>0</td>\n",
       "      <td>1</td>\n",
       "      <td>0</td>\n",
       "    </tr>\n",
       "    <tr>\n",
       "      <th>3</th>\n",
       "      <td>0</td>\n",
       "      <td>1</td>\n",
       "      <td>0</td>\n",
       "    </tr>\n",
       "    <tr>\n",
       "      <th>4</th>\n",
       "      <td>0</td>\n",
       "      <td>1</td>\n",
       "      <td>0</td>\n",
       "    </tr>\n",
       "    <tr>\n",
       "      <th>...</th>\n",
       "      <td>...</td>\n",
       "      <td>...</td>\n",
       "      <td>...</td>\n",
       "    </tr>\n",
       "    <tr>\n",
       "      <th>1437</th>\n",
       "      <td>0</td>\n",
       "      <td>0</td>\n",
       "      <td>1</td>\n",
       "    </tr>\n",
       "    <tr>\n",
       "      <th>1438</th>\n",
       "      <td>0</td>\n",
       "      <td>0</td>\n",
       "      <td>1</td>\n",
       "    </tr>\n",
       "    <tr>\n",
       "      <th>1439</th>\n",
       "      <td>0</td>\n",
       "      <td>0</td>\n",
       "      <td>1</td>\n",
       "    </tr>\n",
       "    <tr>\n",
       "      <th>1440</th>\n",
       "      <td>0</td>\n",
       "      <td>0</td>\n",
       "      <td>1</td>\n",
       "    </tr>\n",
       "    <tr>\n",
       "      <th>1441</th>\n",
       "      <td>0</td>\n",
       "      <td>0</td>\n",
       "      <td>1</td>\n",
       "    </tr>\n",
       "  </tbody>\n",
       "</table>\n",
       "<p>1442 rows × 3 columns</p>\n",
       "</div>"
      ],
      "text/plain": [
       "      apartment  commercial  furnished-apartment\n",
       "0             0           1                    0\n",
       "1             0           1                    0\n",
       "2             0           1                    0\n",
       "3             0           1                    0\n",
       "4             0           1                    0\n",
       "...         ...         ...                  ...\n",
       "1437          0           0                    1\n",
       "1438          0           0                    1\n",
       "1439          0           0                    1\n",
       "1440          0           0                    1\n",
       "1441          0           0                    1\n",
       "\n",
       "[1442 rows x 3 columns]"
      ]
     },
     "execution_count": 15,
     "metadata": {},
     "output_type": "execute_result"
    }
   ],
   "source": [
    "onehot=pd.get_dummies(data['unit'])\n",
    "onehot"
   ]
  },
  {
   "cell_type": "code",
   "execution_count": 16,
   "id": "b491a30f",
   "metadata": {},
   "outputs": [
    {
     "data": {
      "text/plain": [
       "Text(0.5, 1.02, '')"
      ]
     },
     "execution_count": 16,
     "metadata": {},
     "output_type": "execute_result"
    }
   ],
   "source": [
    "data['unit'].value_counts().plot(kind='barh',figsize=(8,6))\n",
    "plt.xlabel(\"category\",labelpad=14)\n",
    "plt.ylabel(\"category\",labelpad=14)\n",
    "plt.title('',y=1.02)"
   ]
  },
  {
   "cell_type": "code",
   "execution_count": 17,
   "id": "3251a5f5",
   "metadata": {},
   "outputs": [
    {
     "data": {
      "text/plain": [
       "<seaborn.axisgrid.FacetGrid at 0x1ca590e4f10>"
      ]
     },
     "execution_count": 17,
     "metadata": {},
     "output_type": "execute_result"
    }
   ],
   "source": [
    "sns.lmplot(data=data,x='area',y='price',fit_reg=False)"
   ]
  },
  {
   "cell_type": "code",
   "execution_count": 18,
   "id": "911ac63e",
   "metadata": {},
   "outputs": [
    {
     "data": {
      "text/plain": [
       "<AxesSubplot:>"
      ]
     },
     "execution_count": 18,
     "metadata": {},
     "output_type": "execute_result"
    }
   ],
   "source": [
    "data.plot()"
   ]
  },
  {
   "cell_type": "code",
   "execution_count": null,
   "id": "b184502c",
   "metadata": {},
   "outputs": [],
   "source": []
  }
 ],
 "metadata": {
  "kernelspec": {
   "display_name": "Python 3 (ipykernel)",
   "language": "python",
   "name": "python3"
  },
  "language_info": {
   "codemirror_mode": {
    "name": "ipython",
    "version": 3
   },
   "file_extension": ".py",
   "mimetype": "text/x-python",
   "name": "python",
   "nbconvert_exporter": "python",
   "pygments_lexer": "ipython3",
   "version": "3.12.4"
  }
 },
 "nbformat": 4,
 "nbformat_minor": 5
}
