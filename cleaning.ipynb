{
 "cells": [
  {
   "cell_type": "code",
   "execution_count": 1,
   "id": "1443b5d1",
   "metadata": {},
   "outputs": [],
   "source": [
    "import pandas as pd\n",
    "import re\n",
    "df = pd.read_excel(r\"F:/aqar/scraped.xlsx\")\n",
    "df = df.drop_duplicates(inplace = False)\n"
   ]
  },
  {
   "cell_type": "code",
   "execution_count": 2,
   "id": "5c7fdf65",
   "metadata": {},
   "outputs": [],
   "source": [
    "df[\"sale_or_rent\"] = df[\"sale_or_rent\"].str.replace('for-rent',0) # 0 rent\n",
    "\n",
    "df[\"sale_or_rent\"] = df[\"sale_or_rent\"].str.replace('for-sale',1) # 1 sale\n",
    "#boolean"
   ]
  },
  {
   "cell_type": "code",
   "execution_count": 3,
   "id": "865d2a3c",
   "metadata": {},
   "outputs": [],
   "source": [
    "df=df.fillna('nan')\n"
   ]
  },
  {
   "cell_type": "code",
   "execution_count": null,
   "id": "b682f0a6",
   "metadata": {},
   "outputs": [],
   "source": [
    "df['lang'] =  checkMAC(df['address'])\n",
    "\n",
    "def checkMAC(x):\n",
    "      if re.match(\"[0-9a-f]{2}([-:])[0-9a-f]{2}(\\\\1[0-9a-f]{2}){4}$\", x.lower()):\n",
    "            return 1"
   ]
  },
  {
   "cell_type": "code",
   "execution_count": 4,
   "id": "7334b92b",
   "metadata": {},
   "outputs": [
    {
     "name": "stdout",
     "output_type": "stream",
     "text": [
      "Int64Index([], dtype='int64')\n"
     ]
    },
    {
     "data": {
      "text/html": [
       "<div>\n",
       "<style scoped>\n",
       "    .dataframe tbody tr th:only-of-type {\n",
       "        vertical-align: middle;\n",
       "    }\n",
       "\n",
       "    .dataframe tbody tr th {\n",
       "        vertical-align: top;\n",
       "    }\n",
       "\n",
       "    .dataframe thead th {\n",
       "        text-align: right;\n",
       "    }\n",
       "</style>\n",
       "<table border=\"1\" class=\"dataframe\">\n",
       "  <thead>\n",
       "    <tr style=\"text-align: right;\">\n",
       "      <th></th>\n",
       "      <th>price</th>\n",
       "      <th>area</th>\n",
       "    </tr>\n",
       "  </thead>\n",
       "  <tbody>\n",
       "    <tr>\n",
       "      <th>count</th>\n",
       "      <td>2.000000e+01</td>\n",
       "      <td>20.000000</td>\n",
       "    </tr>\n",
       "    <tr>\n",
       "      <th>mean</th>\n",
       "      <td>1.217350e+07</td>\n",
       "      <td>193.650000</td>\n",
       "    </tr>\n",
       "    <tr>\n",
       "      <th>std</th>\n",
       "      <td>8.262778e+06</td>\n",
       "      <td>134.540651</td>\n",
       "    </tr>\n",
       "    <tr>\n",
       "      <th>min</th>\n",
       "      <td>1.700000e+06</td>\n",
       "      <td>58.000000</td>\n",
       "    </tr>\n",
       "    <tr>\n",
       "      <th>25%</th>\n",
       "      <td>5.762894e+06</td>\n",
       "      <td>97.000000</td>\n",
       "    </tr>\n",
       "    <tr>\n",
       "      <th>50%</th>\n",
       "      <td>1.003347e+07</td>\n",
       "      <td>138.000000</td>\n",
       "    </tr>\n",
       "    <tr>\n",
       "      <th>75%</th>\n",
       "      <td>1.672740e+07</td>\n",
       "      <td>271.000000</td>\n",
       "    </tr>\n",
       "    <tr>\n",
       "      <th>max</th>\n",
       "      <td>3.035800e+07</td>\n",
       "      <td>562.000000</td>\n",
       "    </tr>\n",
       "  </tbody>\n",
       "</table>\n",
       "</div>"
      ],
      "text/plain": [
       "              price        area\n",
       "count  2.000000e+01   20.000000\n",
       "mean   1.217350e+07  193.650000\n",
       "std    8.262778e+06  134.540651\n",
       "min    1.700000e+06   58.000000\n",
       "25%    5.762894e+06   97.000000\n",
       "50%    1.003347e+07  138.000000\n",
       "75%    1.672740e+07  271.000000\n",
       "max    3.035800e+07  562.000000"
      ]
     },
     "execution_count": 4,
     "metadata": {},
     "output_type": "execute_result"
    }
   ],
   "source": [
    "df[\"area\"] = df[\"area\"].str.strip(\"M²\")\n",
    "df[\"price\"] = df[\"price\"].str.strip(\"EGP\")\n",
    "df[\"price\"] = df[\"price\"].str.strip(\"\\n\")\n",
    "df[\"price\"] = df[\"price\"].str.replace(',','')\n",
    "index_names = df[ df['price']==\"Call for price\" ].index \n",
    "print(index_names)\n",
    "df.drop(index_names, inplace = True)\n",
    "df.reset_index(drop=True, inplace=True)\n",
    "df['price'] = df['price'].astype(int)\n",
    "df['area'] = df['area'].astype(int)\n",
    "\n",
    "df.describe()"
   ]
  },
  {
   "cell_type": "code",
   "execution_count": 5,
   "id": "d8b7640e",
   "metadata": {},
   "outputs": [],
   "source": [
    "df['price/meter^2']=df['price']/df['area']\n",
    "df.to_excel(\"cleaned.xlsx\")\n"
   ]
  },
  {
   "cell_type": "code",
   "execution_count": 6,
   "id": "5711edc4",
   "metadata": {},
   "outputs": [
    {
     "data": {
      "text/plain": [
       "Unnamed: 0         int64\n",
       "link              object\n",
       "Adtitle           object\n",
       "price              int64\n",
       "address           object\n",
       "area               int64\n",
       "bedrooms         float64\n",
       "bathrooms        float64\n",
       "sale_or_rent      object\n",
       "unit              object\n",
       "aqar type         object\n",
       "price/meter      float64\n",
       "price/meter^2    float64\n",
       "dtype: object"
      ]
     },
     "execution_count": 6,
     "metadata": {},
     "output_type": "execute_result"
    }
   ],
   "source": [
    "df = pd.read_excel(r\"F:/aqar/cleaned.xlsx\")\n",
    "# Print a list datatypes of all columns\n",
    "\n",
    "df.dtypes\n",
    "\n"
   ]
  },
  {
   "cell_type": "code",
   "execution_count": null,
   "id": "41220ec6",
   "metadata": {},
   "outputs": [],
   "source": []
  },
  {
   "cell_type": "code",
   "execution_count": null,
   "id": "800471e4",
   "metadata": {},
   "outputs": [],
   "source": []
  }
 ],
 "metadata": {
  "kernelspec": {
   "display_name": "Python 3 (ipykernel)",
   "language": "python",
   "name": "python3"
  },
  "language_info": {
   "codemirror_mode": {
    "name": "ipython",
    "version": 3
   },
   "file_extension": ".py",
   "mimetype": "text/x-python",
   "name": "python",
   "nbconvert_exporter": "python",
   "pygments_lexer": "ipython3",
   "version": "3.12.4"
  }
 },
 "nbformat": 4,
 "nbformat_minor": 5
}
